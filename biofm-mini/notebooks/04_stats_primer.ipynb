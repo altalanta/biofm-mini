{
 "cells": [
  {
   "cell_type": "markdown",
   "metadata": {},
   "source": [
    "# 04 · Stats Primer\n",
    "Quick reference on confidence intervals, multiple testing (Benjamini–Hochberg), and effect sizes."
   ]
  },
  {
    "cell_type": "markdown",
    "metadata": {},
    "source": [
      "## Bootstrap Confidence Intervals\n",
      "We use percentile intervals from 1000 bootstrap resamples:\n",
      "1. Sample with replacement from evaluation pairs.\n",
      "2. Recompute AUROC/AUPRC.\n",
      "3. Take the 2.5th and 97.5th percentiles as the 95% CI."
    ]
  },
  {
   "cell_type": "code",
   "execution_count": null,
   "metadata": {},
   "outputs": [],
   "source": [
    "import numpy as np\n",
    "from biofm.eval.metrics import bootstrap_metric, compute_auroc\n",
    "labels = np.array([0, 1, 0, 1, 0, 1])\n",
    "scores = np.array([0.2, 0.8, 0.1, 0.9, 0.4, 0.6])\n",
    "bootstrap_metric(compute_auroc, labels, scores, n_bootstrap=100, seed=7)"
   ]
  },
  {
   "cell_type": "markdown",
   "metadata": {},
   "source": [
    "## Benjamini–Hochberg FDR\n",
    "1. Sort p-values ascending.\n",
    "2. For each index *i*, compute `i/m * q` (where *m* is number of tests, *q* target FDR).\n",
    "3. Select the largest *i* where `p_i <= i/m * q`; declare all earlier hypotheses significant."
   ]
  },
  {
   "cell_type": "code",
   "execution_count": null,
   "metadata": {},
   "outputs": [],
   "source": [
    "def benjamini_hochberg(p_values, q=0.1):\n",
    "    m = len(p_values)\n",
    "    ranked = sorted((p, i) for i, p in enumerate(p_values, 1))\n",
    "    threshold = 0\n",
    "    for i, (p, _) in enumerate(ranked, 1):\n",
    "        if p <= i / m * q:\n",
    "            threshold = i\n",
    "    return [idx <= threshold for _, idx in ranked]\n",
    "benjamini_hochberg([0.01, 0.02, 0.2, 0.15])"
   ]
  },
  {
   "cell_type": "markdown",
   "metadata": {},
   "source": [
    "## Effect Sizes\n",
    "For binary outcomes we often report:\n",
    "- Cohen's *d* for continuous biomarkers\n",
    "- Risk difference or odds ratio for clinical metrics\n",
    "Always accompany the effect size with its uncertainty estimate (CI or bootstrap)."
   ]
  }
 ],
 "metadata": {
  "kernelspec": {
   "display_name": "Python 3",
   "language": "python",
   "name": "python3"
  },
  "language_info": {
   "name": "python",
   "version": "3.11"
  }
 },
 "nbformat": 4,
 "nbformat_minor": 5
}
