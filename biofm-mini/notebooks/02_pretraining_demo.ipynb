{
 "cells": [
  {
   "cell_type": "markdown",
   "metadata": {},
   "source": [
    "# 02 · Pretraining Demo\n",
    "A short illustration of running a single optimisation step on toy multimodal data."
   ]
  },
  {
   "cell_type": "code",
   "execution_count": null,
   "metadata": {},
   "outputs": [],
   "source": [
    "from pathlib import Path\n",
    "import torch\n",
    "\n",
    "from biofm.dataio.toydata import generate_toy_dataset\n",
    "from biofm.training.utils import create_paired_dataloader\n",
    "from biofm.models.clip import BioFMClipModel\n",
    "from biofm.models.encoders import ImageEncoder, RNAMlpEncoder\n",
    "\n",
    "bundle = generate_toy_dataset(Path('.'), n_samples=8)\n",
    "loader = create_paired_dataloader(bundle, batch_size=4, image_size=64, select_hvg=16)\n",
    "rna_dim = loader.dataset.rna_dataset.matrix.shape[1]\n",
    "model = BioFMClipModel(ImageEncoder(embedding_dim=128), RNAMlpEncoder(rna_dim, embedding_dim=128))\n",
    "optim = torch.optim.AdamW(model.parameters(), lr=1e-3)\n",
    "batch = next(iter(loader))\n",
    "loss = model(pixel_values=batch['pixel_values'], expression=batch['expression'])['loss']\n",
    "loss.backward(); optim.step()\n",
    "loss.item()"
   ]
  }
 ],
 "metadata": {
  "kernelspec": {
   "display_name": "Python 3",
   "language": "python",
   "name": "python3"
  },
  "language_info": {
   "name": "python",
   "version": "3.11"
  }
 },
 "nbformat": 4,
 "nbformat_minor": 5
}
