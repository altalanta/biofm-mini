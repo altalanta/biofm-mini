{
 "cells": [
  {
   "cell_type": "markdown",
   "metadata": {},
   "source": [
    "# 03 · Transfer Evaluation\n",
    "Train a linear probe on stored embeddings and summarise AUROC/AUPRC."
   ]
  },
  {
   "cell_type": "code",
   "execution_count": null,
   "metadata": {},
   "outputs": [],
   "source": [
    "from pathlib import Path\n",
    "import numpy as np\n",
    "from biofm.eval.linear_probe import probe_and_report\n",
    "from biofm.utils.embeddings import load_embeddings_from_disk\n",
    "from biofm.utils.pipeline import load_bundle\n",
    "from omegaconf import OmegaConf\n",
    "\n",
    "cfg = OmegaConf.create({'paths': {'data_dir': 'data'}, 'project': {'seed': 7}})\n",
    "image_df, rna_df = load_embeddings_from_disk(Path(cfg.paths.data_dir))\n",
    "bundle = load_bundle(OmegaConf.merge(cfg, {'train': {'embedding_dim': 256}, 'data': {'select_hvg': 32, 'image_size': 128}}))\n",
    "labels = {record.sample_id: record.label for record in bundle.clinical}\n",
    "ids = image_df.index\n",
    "features = np.hstack([image_df.loc[ids].to_numpy(), rna_df.loc[ids].to_numpy()])\n",
    "label_array = np.array([labels[i] for i in ids])\n",
    "_, summary = probe_and_report(features, label_array)\n",
    "print(summary)"
   ]
  }
 ],
 "metadata": {
  "kernelspec": {
   "display_name": "Python 3",
   "language": "python",
   "name": "python3"
  },
  "language_info": {
   "name": "python",
   "version": "3.11"
  }
 },
 "nbformat": 4,
 "nbformat_minor": 5
}
