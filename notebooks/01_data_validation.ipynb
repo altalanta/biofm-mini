{
 "cells": [
  {
   "cell_type": "markdown",
   "metadata": {},
   "source": [
    "# 01 · Data Validation\n",
    "Use Pydantic schemas and utility loaders to confirm every modality meets the expected schema before training."
   ]
  },
  {
   "cell_type": "code",
   "execution_count": null,
   "metadata": {},
   "outputs": [],
   "source": [
    "from pathlib import Path\n",
    "from biofm.dataio.toydata import generate_toy_dataset\n",
    "from biofm.datamodels import validate_dataset_counts\n",
    "\n",
    "bundle = generate_toy_dataset(Path('.'))\n",
    "validate_dataset_counts(bundle)"
   ]
  }
 ],
 "metadata": {
  "kernelspec": {
   "display_name": "Python 3",
   "language": "python",
   "name": "python3"
  },
  "language_info": {
   "name": "python",
   "version": "3.11"
  }
 },
 "nbformat": 4,
 "nbformat_minor": 5
}
